{
 "cells": [
  {
   "cell_type": "code",
   "execution_count": 2,
   "metadata": {},
   "outputs": [],
   "source": [
    "import nltk\n",
    "import numpy as np\n",
    "import pandas as pd"
   ]
  },
  {
   "cell_type": "code",
   "execution_count": 4,
   "metadata": {},
   "outputs": [
    {
     "data": {
      "text/html": [
       "<div>\n",
       "<style scoped>\n",
       "    .dataframe tbody tr th:only-of-type {\n",
       "        vertical-align: middle;\n",
       "    }\n",
       "\n",
       "    .dataframe tbody tr th {\n",
       "        vertical-align: top;\n",
       "    }\n",
       "\n",
       "    .dataframe thead th {\n",
       "        text-align: right;\n",
       "    }\n",
       "</style>\n",
       "<table border=\"1\" class=\"dataframe\">\n",
       "  <thead>\n",
       "    <tr style=\"text-align: right;\">\n",
       "      <th></th>\n",
       "      <th>id</th>\n",
       "      <th>datetime</th>\n",
       "      <th>title</th>\n",
       "      <th>share_count</th>\n",
       "      <th>comment_count</th>\n",
       "      <th>read_count</th>\n",
       "      <th>author</th>\n",
       "    </tr>\n",
       "  </thead>\n",
       "  <tbody>\n",
       "    <tr>\n",
       "      <th>0</th>\n",
       "      <td>6839008</td>\n",
       "      <td>2019-11-30T13:50:49+02:00</td>\n",
       "      <td>Tänavatantsijad tõid Leedu võistluselt Tartuss...</td>\n",
       "      <td>0.0</td>\n",
       "      <td>0</td>\n",
       "      <td>14</td>\n",
       "      <td>{'Lenel Karu'}</td>\n",
       "    </tr>\n",
       "    <tr>\n",
       "      <th>1</th>\n",
       "      <td>6838978</td>\n",
       "      <td>2019-11-30T12:49:30+02:00</td>\n",
       "      <td>Tartu ärinõuandla andis välja Hea Tegu auhinnad</td>\n",
       "      <td>0.0</td>\n",
       "      <td>0</td>\n",
       "      <td>22</td>\n",
       "      <td>{'Tartu Postimees'}</td>\n",
       "    </tr>\n",
       "    <tr>\n",
       "      <th>2</th>\n",
       "      <td>6838938</td>\n",
       "      <td>2019-11-30T11:08:41+02:00</td>\n",
       "      <td>Jalgrattur pööras sõiduautole ette ja sai viga</td>\n",
       "      <td>0.0</td>\n",
       "      <td>0</td>\n",
       "      <td>60</td>\n",
       "      <td>{'Tartu Postimees'}</td>\n",
       "    </tr>\n",
       "    <tr>\n",
       "      <th>3</th>\n",
       "      <td>6838937</td>\n",
       "      <td>2019-11-30T11:04:54+02:00</td>\n",
       "      <td>Vales kohas vasakpööret sooritanud autojuht põ...</td>\n",
       "      <td>1.0</td>\n",
       "      <td>0</td>\n",
       "      <td>121</td>\n",
       "      <td>{'Tartu Postimees'}</td>\n",
       "    </tr>\n",
       "    <tr>\n",
       "      <th>4</th>\n",
       "      <td>6838618</td>\n",
       "      <td>2019-11-29T19:04:38+02:00</td>\n",
       "      <td>Galerii: Toomas Asser sai ülikooli muuseumi pü...</td>\n",
       "      <td>73.0</td>\n",
       "      <td>0</td>\n",
       "      <td>1425</td>\n",
       "      <td>{'Tartu Postimees'}</td>\n",
       "    </tr>\n",
       "  </tbody>\n",
       "</table>\n",
       "</div>"
      ],
      "text/plain": [
       "        id                   datetime  \\\n",
       "0  6839008  2019-11-30T13:50:49+02:00   \n",
       "1  6838978  2019-11-30T12:49:30+02:00   \n",
       "2  6838938  2019-11-30T11:08:41+02:00   \n",
       "3  6838937  2019-11-30T11:04:54+02:00   \n",
       "4  6838618  2019-11-29T19:04:38+02:00   \n",
       "\n",
       "                                               title  share_count  \\\n",
       "0  Tänavatantsijad tõid Leedu võistluselt Tartuss...          0.0   \n",
       "1    Tartu ärinõuandla andis välja Hea Tegu auhinnad          0.0   \n",
       "2     Jalgrattur pööras sõiduautole ette ja sai viga          0.0   \n",
       "3  Vales kohas vasakpööret sooritanud autojuht põ...          1.0   \n",
       "4  Galerii: Toomas Asser sai ülikooli muuseumi pü...         73.0   \n",
       "\n",
       "   comment_count  read_count               author  \n",
       "0              0          14       {'Lenel Karu'}  \n",
       "1              0          22  {'Tartu Postimees'}  \n",
       "2              0          60  {'Tartu Postimees'}  \n",
       "3              0         121  {'Tartu Postimees'}  \n",
       "4              0        1425  {'Tartu Postimees'}  "
      ]
     },
     "execution_count": 4,
     "metadata": {},
     "output_type": "execute_result"
    }
   ],
   "source": [
    "data = pd.read_csv(\"../data/postimees.txt\", sep=\"\\t\", names=['website', 'id', 'datetime', 'title', 'share_count', 'comment_count', 'read_count', 'author', 'section', 'content'])\n",
    "data = data.drop_duplicates(subset=['id'])\n",
    "data = data.drop(columns=['website', 'section', 'content'])\n",
    "\n",
    "data['comment_count'] = pd.to_numeric(data['comment_count'],errors='coerce')\n",
    "data['read_count'] = pd.to_numeric(data['read_count'],errors='coerce')\n",
    "data['share_count'] = pd.to_numeric(data['share_count'],errors='coerce')\n",
    "\n",
    "data.head()"
   ]
  },
  {
   "cell_type": "code",
   "execution_count": 9,
   "metadata": {},
   "outputs": [],
   "source": [
    "titles = data.title.tolist()\n",
    "titles = [str(i) for i in titles]"
   ]
  },
  {
   "cell_type": "code",
   "execution_count": 10,
   "metadata": {},
   "outputs": [],
   "source": [
    "from nltk.collocations import BigramCollocationFinder\n",
    "from nltk import word_tokenize\n",
    "bigram_measures = nltk.collocations.BigramAssocMeasures()\n",
    "\n",
    "finder = BigramCollocationFinder.from_words(word_tokenize(titles[0]))"
   ]
  },
  {
   "cell_type": "code",
   "execution_count": 14,
   "metadata": {},
   "outputs": [
    {
     "name": "stdout",
     "output_type": "stream",
     "text": [
      "('Tänavatantsijad', 'tõid')1\n",
      "('tõid', 'Leedu')1\n",
      "('Leedu', 'võistluselt')1\n",
      "('võistluselt', 'Tartusse')1\n",
      "('Tartusse', 'topeltvõidu')1\n"
     ]
    }
   ],
   "source": [
    "\n",
    "for k, v in finder.ngram_fd.items():\n",
    "    print(str(k) + str(v))"
   ]
  },
  {
   "cell_type": "code",
   "execution_count": null,
   "metadata": {},
   "outputs": [],
   "source": []
  }
 ],
 "metadata": {
  "kernelspec": {
   "display_name": "Python 3",
   "language": "python",
   "name": "python3"
  },
  "language_info": {
   "codemirror_mode": {
    "name": "ipython",
    "version": 3
   },
   "file_extension": ".py",
   "mimetype": "text/x-python",
   "name": "python",
   "nbconvert_exporter": "python",
   "pygments_lexer": "ipython3",
   "version": "3.6.9"
  }
 },
 "nbformat": 4,
 "nbformat_minor": 4
}
